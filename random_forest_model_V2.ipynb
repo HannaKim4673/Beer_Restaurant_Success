{
  "nbformat": 4,
  "nbformat_minor": 5,
  "metadata": {
    "kernelspec": {
      "display_name": "mlenv",
      "language": "python",
      "name": "mlenv"
    },
    "language_info": {
      "codemirror_mode": {
        "name": "ipython",
        "version": 3
      },
      "file_extension": ".py",
      "mimetype": "text/x-python",
      "name": "python",
      "nbconvert_exporter": "python",
      "pygments_lexer": "ipython3",
      "version": "3.7.10"
    },
    "colab": {
      "name": "random_forest_model_V2.ipynb",
      "provenance": []
    }
  },
  "cells": [
    {
      "cell_type": "code",
      "metadata": {
        "colab": {
          "base_uri": "https://localhost:8080/"
        },
        "id": "63fe4aff",
        "outputId": "829f88a4-bbdf-4638-a757-662a17c08147"
      },
      "source": [
        "import os\n",
        "# Find the latest version of spark 2.0  from http://www-us.apache.org/dist/spark/ and enter as the spark version\n",
        "# For example:\n",
        "# spark_version = 'spark-3.0.0'\n",
        "spark_version = 'spark-3.1.2'\n",
        "os.environ['SPARK_VERSION']=spark_version\n",
        "\n",
        "# Install Spark and Java\n",
        "!apt-get update\n",
        "!apt-get install openjdk-11-jdk-headless -qq > /dev/null\n",
        "!wget -q http://www.apache.org/dist/spark/$SPARK_VERSION/$SPARK_VERSION-bin-hadoop2.7.tgz\n",
        "!tar xf $SPARK_VERSION-bin-hadoop2.7.tgz\n",
        "!pip install -q findspark\n",
        "\n",
        "# Set Environment Variables\n",
        "import os\n",
        "os.environ[\"JAVA_HOME\"] = \"/usr/lib/jvm/java-11-openjdk-amd64\"\n",
        "os.environ[\"SPARK_HOME\"] = f\"/content/{spark_version}-bin-hadoop2.7\"\n",
        "\n",
        "# Start a SparkSession\n",
        "import findspark\n",
        "findspark.init()"
      ],
      "id": "63fe4aff",
      "execution_count": 1,
      "outputs": [
        {
          "output_type": "stream",
          "text": [
            "\r0% [Working]\r            \rGet:1 http://security.ubuntu.com/ubuntu bionic-security InRelease [88.7 kB]\n",
            "\r0% [Connecting to archive.ubuntu.com (91.189.88.142)] [1 InRelease 14.2 kB/88.7\r0% [Waiting for headers] [Waiting for headers] [Connecting to ppa.launchpad.net\r                                                                               \rGet:2 https://cloud.r-project.org/bin/linux/ubuntu bionic-cran40/ InRelease [3,626 B]\n",
            "\r                                                                               \r0% [Waiting for headers] [Waiting for headers] [Waiting for headers]\r0% [1 InRelease gpgv 88.7 kB] [Waiting for headers] [Waiting for headers] [Wait\r                                                                               \rIgn:3 https://developer.download.nvidia.com/compute/cuda/repos/ubuntu1804/x86_64  InRelease\n",
            "\r                                                                               \r0% [1 InRelease gpgv 88.7 kB] [Waiting for headers] [Waiting for headers]\r                                                                         \rHit:4 http://archive.ubuntu.com/ubuntu bionic InRelease\n",
            "Get:5 http://ppa.launchpad.net/c2d4u.team/c2d4u4.0+/ubuntu bionic InRelease [15.9 kB]\n",
            "Ign:6 https://developer.download.nvidia.com/compute/machine-learning/repos/ubuntu1804/x86_64  InRelease\n",
            "Hit:7 https://developer.download.nvidia.com/compute/cuda/repos/ubuntu1804/x86_64  Release\n",
            "Get:8 http://archive.ubuntu.com/ubuntu bionic-updates InRelease [88.7 kB]\n",
            "Hit:9 https://developer.download.nvidia.com/compute/machine-learning/repos/ubuntu1804/x86_64  Release\n",
            "Hit:10 http://ppa.launchpad.net/cran/libgit2/ubuntu bionic InRelease\n",
            "Get:11 http://archive.ubuntu.com/ubuntu bionic-backports InRelease [74.6 kB]\n",
            "Hit:12 http://ppa.launchpad.net/deadsnakes/ppa/ubuntu bionic InRelease\n",
            "Get:13 http://security.ubuntu.com/ubuntu bionic-security/main amd64 Packages [2,294 kB]\n",
            "Hit:14 http://ppa.launchpad.net/graphics-drivers/ppa/ubuntu bionic InRelease\n",
            "Get:15 http://security.ubuntu.com/ubuntu bionic-security/restricted amd64 Packages [543 kB]\n",
            "Get:16 http://security.ubuntu.com/ubuntu bionic-security/universe amd64 Packages [1,421 kB]\n",
            "Get:19 http://ppa.launchpad.net/c2d4u.team/c2d4u4.0+/ubuntu bionic/main Sources [1,792 kB]\n",
            "Get:20 http://archive.ubuntu.com/ubuntu bionic-updates/main amd64 Packages [2,730 kB]\n",
            "Get:21 http://ppa.launchpad.net/c2d4u.team/c2d4u4.0+/ubuntu bionic/main amd64 Packages [917 kB]\n",
            "Get:22 http://archive.ubuntu.com/ubuntu bionic-updates/multiverse amd64 Packages [34.4 kB]\n",
            "Get:23 http://archive.ubuntu.com/ubuntu bionic-updates/restricted amd64 Packages [575 kB]\n",
            "Get:24 http://archive.ubuntu.com/ubuntu bionic-updates/universe amd64 Packages [2,196 kB]\n",
            "Fetched 12.8 MB in 4s (3,148 kB/s)\n",
            "Reading package lists... Done\n"
          ],
          "name": "stdout"
        }
      ]
    },
    {
      "cell_type": "code",
      "metadata": {
        "colab": {
          "base_uri": "https://localhost:8080/"
        },
        "id": "c6114c8d",
        "outputId": "dfe25630-1398-4f73-836c-fe1b1128173e"
      },
      "source": [
        "# Download the Postgres driver that will allow Spark to interact with Postgres.\n",
        "!wget https://jdbc.postgresql.org/download/postgresql-42.2.16.jar"
      ],
      "id": "c6114c8d",
      "execution_count": 2,
      "outputs": [
        {
          "output_type": "stream",
          "text": [
            "--2021-08-18 14:04:43--  https://jdbc.postgresql.org/download/postgresql-42.2.16.jar\n",
            "Resolving jdbc.postgresql.org (jdbc.postgresql.org)... 72.32.157.228, 2001:4800:3e1:1::228\n",
            "Connecting to jdbc.postgresql.org (jdbc.postgresql.org)|72.32.157.228|:443... connected.\n",
            "HTTP request sent, awaiting response... 200 OK\n",
            "Length: 1002883 (979K) [application/java-archive]\n",
            "Saving to: ‘postgresql-42.2.16.jar’\n",
            "\n",
            "postgresql-42.2.16. 100%[===================>] 979.38K  5.65MB/s    in 0.2s    \n",
            "\n",
            "2021-08-18 14:04:43 (5.65 MB/s) - ‘postgresql-42.2.16.jar’ saved [1002883/1002883]\n",
            "\n"
          ],
          "name": "stdout"
        }
      ]
    },
    {
      "cell_type": "code",
      "metadata": {
        "id": "bfd5e74e"
      },
      "source": [
        "# start sparksession\n",
        "from pyspark.sql import SparkSession\n",
        "spark = SparkSession.builder.appName(\"LiveData\").config(\"spark.driver.extraClassPath\",\"/content/postgresql-42.2.16.jar\").getOrCreate()"
      ],
      "id": "bfd5e74e",
      "execution_count": 3,
      "outputs": []
    },
    {
      "cell_type": "code",
      "metadata": {
        "colab": {
          "base_uri": "https://localhost:8080/"
        },
        "id": "9db95edc",
        "outputId": "9df5117f-f209-4e51-992c-7350d37a6504"
      },
      "source": [
        "!wget https://drewholt12-joineddata.s3.us-east-2.amazonaws.com/database_join.csv\n",
        "!touch \"/content/database_join.csv\""
      ],
      "id": "9db95edc",
      "execution_count": 4,
      "outputs": [
        {
          "output_type": "stream",
          "text": [
            "--2021-08-18 14:04:56--  https://drewholt12-joineddata.s3.us-east-2.amazonaws.com/database_join.csv\n",
            "Resolving drewholt12-joineddata.s3.us-east-2.amazonaws.com (drewholt12-joineddata.s3.us-east-2.amazonaws.com)... 52.219.97.202\n",
            "Connecting to drewholt12-joineddata.s3.us-east-2.amazonaws.com (drewholt12-joineddata.s3.us-east-2.amazonaws.com)|52.219.97.202|:443... connected.\n",
            "HTTP request sent, awaiting response... 200 OK\n",
            "Length: 382066 (373K) [text/csv]\n",
            "Saving to: ‘database_join.csv’\n",
            "\n",
            "\rdatabase_join.csv     0%[                    ]       0  --.-KB/s               \rdatabase_join.csv   100%[===================>] 373.11K  --.-KB/s    in 0.06s   \n",
            "\n",
            "2021-08-18 14:04:56 (5.66 MB/s) - ‘database_join.csv’ saved [382066/382066]\n",
            "\n"
          ],
          "name": "stdout"
        }
      ]
    },
    {
      "cell_type": "code",
      "metadata": {
        "colab": {
          "base_uri": "https://localhost:8080/"
        },
        "id": "4b027e4a",
        "outputId": "207c0975-461f-4bb0-e232-a17acd610695"
      },
      "source": [
        "# read the file and save locally\n",
        "import re\n",
        "from pyspark import SparkFiles\n",
        "\n",
        "with open (\"/content/database_join.csv\",\"r+\") as f:\n",
        "  content = f.read()\n",
        "  content_new = re.sub('(?<!\")\\n', ' ', content, flags=re.M)\n",
        "  content_new = re.sub('Mapped Location', 'Mapped Location\\n', content_new)\n",
        "with open(\"/content/database_join.csv\", \"w\") as w:\n",
        "  w.write(content_new)\n",
        "\n",
        "spark.sparkContext.addFile(\"/content/database_join.csv\")\n",
        "df = spark.read.option(\"encoding\", \"UTF-8\").csv(SparkFiles.get(\"\"), sep=\",\", header=True, inferSchema=True)\n",
        "df.show()"
      ],
      "id": "4b027e4a",
      "execution_count": 5,
      "outputs": [
        {
          "output_type": "stream",
          "text": [
            "+-----+--------+----------------+---------------------+-----------------------+---------------+--------------------+----------------------+------------------------------------+--------------------------------------------------+----------------------------------------------+----------------------------------------------------+-------------------------------------+---------------------------------------------------+-----------------------------------------------+-----------------------------------------------------+-------------------------------------+---------------------------------------------------+-----------------------------------------------+-----------------------------------------------------+----------------------------+------------------------------------------+--------------------------------------+--------------------------------------------+------------------------+-------+-------------+--------------+------------+-----------+--------------------+----------+---------+----------+---------------+\n",
            "|index|zip_code|total_population|total_male_population|total_female_popularion|eight_teen_plus|eight_teen_plus_male|eight_teen_plus_female|population_eight_teen_to_twenty_four|eight_teen_to_twenty_four_not_high_school_graduate|eight_teen_to_twenty_four_high_school_graduate|eight_teen_to_twenty_four_bachelors_degree_or_higher|population_twenty_five_to_thirty_four|twenty_five_to_thirty_four_not_high_school_graduate|twenty_five_to_thirty_four_high_school_graduate|twenty_five_to_thirty_four_bachelors_degree_or_higher|population_thirty_five_to_fourty_four|thirty_five_to_fourty_four_not_high_school_graduate|thirty_five_to_fourty_four_high_school_graduate|thirty_five_to_fourty_four_bachelors_degree_or_higher|population_sixty_five_and_up|sixty_five_and_up_not_high_school_graduate|sixty_five_and_up_high_school_graduate|sixty_five_and_up_bachelors_degree_or_higher|average_household_income|index-2|permit_number|permit_subtype|date_entered|date_issued|       business_name|zip_code-2| latitude| longitude|permit_duration|\n",
            "+-----+--------+----------------+---------------------+-----------------------+---------------+--------------------+----------------------+------------------------------------+--------------------------------------------------+----------------------------------------------+----------------------------------------------------+-------------------------------------+---------------------------------------------------+-----------------------------------------------+-----------------------------------------------------+-------------------------------------+---------------------------------------------------+-----------------------------------------------+-----------------------------------------------------+----------------------------+------------------------------------------+--------------------------------------+--------------------------------------------+------------------------+-------+-------------+--------------+------------+-----------+--------------------+----------+---------+----------+---------------+\n",
            "|    0|   37013|           97939|                47658|                  50281|          59479|               27984|                 31495|                                9099|                                              1073|                                          6670|                                                1356|                                19538|                                               1439|                                          10123|                                                 7976|                                14718|                                               2146|                                           7680|                                                 4892|                        6688|                                      1045|                                  4248|                                        1395|                   26832|      0|     19-25846|       ONSALES|  2019-01-24| 2019-06-03|EXO-TIKKA INDIAN ...|     37013|36.047649|-86.648119|       797 days|\n",
            "|   18|   37209|           38664|                18251|                  20413|          29326|               13363|                 15963|                                5522|                                               337|                                          3591|                                                1594|                                11095|                                                434|                                           3399|                                                 7262|                                 4738|                                                744|                                           2011|                                                 1983|                        3052|                                       554|                                  1801|                                         697|                   32539|      1|     16-20340|       ONSALES|  2016-05-18| 2016-09-23|Las Palmas Mexica...|     37209|36.149076|-86.863105|      1780 days|\n",
            "|   24|   37215|           22379|                 9989|                  12390|          17874|                7986|                  9888|                                1774|                                               222|                                           848|                                                 704|                                 2717|                                                 37|                                            434|                                                 2246|                                 2488|                                                 24|                                            378|                                                 2086|                        5135|                                       121|                                  1211|                                        3803|                   88326|      2|     19-25920|    ONOFFSALES|  2019-03-06| 2019-06-13|     NASHVILLE CIGAR|     37215|36.104329|-86.815039|       787 days|\n",
            "|   15|   37206|           26382|                12473|                  13909|          20213|                9555|                 10658|                                1990|                                               228|                                          1435|                                                 327|                                 6918|                                                226|                                           2506|                                                 4186|                                 4208|                                                364|                                           1408|                                                 2436|                        2226|                                       450|                                  1369|                                         407|                   36851|      3|     19-25985|    ONOFFSALES|  2019-04-22| 2019-06-13|TAILGATE BREWERY ...|     37206|36.186415| -86.74721|       787 days|\n",
            "|   18|   37209|           38664|                18251|                  20413|          29326|               13363|                 15963|                                5522|                                               337|                                          3591|                                                1594|                                11095|                                                434|                                           3399|                                                 7262|                                 4738|                                                744|                                           2011|                                                 1983|                        3052|                                       554|                                  1801|                                         697|                   32539|      4|     17-25076|       ONSALES|  2017-06-07| 2018-03-02|  BARE BONES BUTCHER|     37209|36.158192| -86.84889|      1255 days|\n",
            "|   12|   37203|           15091|                 7412|                   7679|          12679|                6154|                  6525|                                2420|                                               157|                                          1191|                                                1072|                                 5540|                                                 26|                                           1321|                                                 4193|                                 1799|                                                166|                                            404|                                                 1229|                        1121|                                       346|                                   551|                                         224|                   49754|      5|     20-26815|       ONSALES|  2020-06-10| 2020-08-27|MCDOUGAL'S CHICKE...|     37203|36.147073|-86.785805|       346 days|\n",
            "|   11|   37201|            1619|                 1245|                    374|           1475|                1132|                   343|                                 301|                                                98|                                           191|                                                  12|                                  509|                                                 60|                                            249|                                                  200|                                  245|                                                 33|                                            141|                                                   71|                          88|                                         0|                                    56|                                          32|                   43340|      6|     20-26461|    ONOFFSALES|  2020-01-30| 2020-04-10|DRURY PLAZA HOTEL...|     37201|36.157191|-86.774733|       485 days|\n",
            "|   25|   37216|           17848|                 8877|                   8971|          14856|                7510|                  7346|                                1179|                                               129|                                           777|                                                 273|                                 4247|                                                 90|                                           1550|                                                 2607|                                 2828|                                                140|                                           1382|                                                 1306|                        2311|                                       414|                                  1295|                                         602|                   38634|      7|     20-26478|       ONSALES|  2020-02-07| 2020-04-10|         HENRY JAMES|     37216|36.214491|-86.730474|       485 days|\n",
            "|   20|   37211|           75955|                39340|                  36615|          46637|               23496|                 23141|                                6972|                                              1130|                                          4261|                                                1581|                                17519|                                               2764|                                           6777|                                                 7978|                                10945|                                               2185|                                           4461|                                                 4299|                        7558|                                      1278|                                  4203|                                        2077|                   29406|      8|     19-26404|       ONSALES|  2019-12-19| 2020-04-13|  SAL'S FAMILY PIZZA|     37211|36.041417|-86.743793|       482 days|\n",
            "|   19|   37210|           17248|                 8731|                   8517|          11023|                5157|                  5866|                                2256|                                               163|                                          1811|                                                 282|                                 3488|                                                515|                                           1512|                                                 1461|                                 2026|                                                473|                                           1095|                                                  458|                        1691|                                       453|                                   968|                                         270|                   23851|      9|     19-25924|    ONOFFSALES|  2019-03-07| 2019-06-13|VARIOUS ARTISTS B...|     37210| 36.14398|-86.736393|       787 days|\n",
            "|   21|   37212|           20803|                 9757|                  11046|          16969|                7878|                  9091|                                7760|                                               110|                                          6647|                                                1003|                                 4122|                                                 65|                                            822|                                                 3235|                                 1808|                                                115|                                            277|                                                 1416|                        1541|                                       168|                                   583|                                         790|                   40792|     10|     19-26014|       ONSALES|  2019-05-07| 2019-06-13|            SUSHI 88|     37212|36.136784|-86.802506|       787 days|\n",
            "|   11|   37201|            1619|                 1245|                    374|           1475|                1132|                   343|                                 301|                                                98|                                           191|                                                  12|                                  509|                                                 60|                                            249|                                                  200|                                  245|                                                 33|                                            141|                                                   71|                          88|                                         0|                                    56|                                          32|                   43340|     11|     19-26208|       ONSALES|  2019-08-16| 2019-11-01|INFINITY HOSPITAL...|     37201|36.156825|-86.774481|       646 days|\n",
            "|   23|   37214|           30528|                14968|                  15560|          24025|               11392|                 12633|                                2053|                                               240|                                          1460|                                                 353|                                 6246|                                                163|                                           2779|                                                 3304|                                 4864|                                                180|                                           2388|                                                 2296|                        4103|                                       528|                                  2624|                                         951|                   34065|     12|     19-26205|       ONSALES|  2019-08-15| 2019-11-01|Embassy Suites By...|     37214|36.144714|-86.686523|       646 days|\n",
            "|    0|   37013|           97939|                47658|                  50281|          59479|               27984|                 31495|                                9099|                                              1073|                                          6670|                                                1356|                                19538|                                               1439|                                          10123|                                                 7976|                                14718|                                               2146|                                           7680|                                                 4892|                        6688|                                      1045|                                  4248|                                        1395|                   26832|     13|     20-26438|       ONSALES|  2020-01-20| 2020-04-13|         HAMPTON INN|     37013|36.044401| -86.64822|       482 days|\n",
            "|   15|   37206|           26382|                12473|                  13909|          20213|                9555|                 10658|                                1990|                                               228|                                          1435|                                                 327|                                 6918|                                                226|                                           2506|                                                 4186|                                 4208|                                                364|                                           1408|                                                 2436|                        2226|                                       450|                                  1369|                                         407|                   36851|     14|     20-26457|       ONSALES|  2020-01-29| 2020-04-13|             JOYLAND|     37206|36.175138| -86.75611|       482 days|\n",
            "|   20|   37211|           75955|                39340|                  36615|          46637|               23496|                 23141|                                6972|                                              1130|                                          4261|                                                1581|                                17519|                                               2764|                                           6777|                                                 7978|                                10945|                                               2185|                                           4461|                                                 4299|                        7558|                                      1278|                                  4203|                                        2077|                   29406|     15|     20-26472|       ONSALES|  2020-02-05| 2020-08-27|NASHVILLE HOOKAH BAR|     37211|36.117664|-86.748591|       346 days|\n",
            "|   20|   37211|           75955|                39340|                  36615|          46637|               23496|                 23141|                                6972|                                              1130|                                          4261|                                                1581|                                17519|                                               2764|                                           6777|                                                 7978|                                10945|                                               2185|                                           4461|                                                 4299|                        7558|                                      1278|                                  4203|                                        2077|                   29406|     16|     19-25907|    ONOFFSALES|  2019-03-03| 2019-06-14| DEEP SOUTH GROWLERS|     37211|36.025525|-86.712036|       786 days|\n",
            "|   12|   37203|           15091|                 7412|                   7679|          12679|                6154|                  6525|                                2420|                                               157|                                          1191|                                                1072|                                 5540|                                                 26|                                           1321|                                                 4193|                                 1799|                                                166|                                            404|                                                 1229|                        1121|                                       346|                                   551|                                         224|                   49754|     17|     19-26022|       ONSALES|  2019-05-09| 2019-06-14|              VIRAGO|     37203|36.155867| -86.78605|       786 days|\n",
            "|   13|   37204|           15452|                 6908|                   8544|          12294|                5498|                  6796|                                2737|                                                73|                                          2208|                                                 456|                                 3822|                                                 85|                                            662|                                                 3075|                                 1947|                                                  8|                                            342|                                                 1597|                        1274|                                       175|                                   393|                                         706|                   51342|     18|     19-25960|       ONSALES|  2019-03-28| 2019-06-14|    LOVE PEACE & PHO|     37204|36.131462|-86.778867|       786 days|\n",
            "|   18|   37209|           38664|                18251|                  20413|          29326|               13363|                 15963|                                5522|                                               337|                                          3591|                                                1594|                                11095|                                                434|                                           3399|                                                 7262|                                 4738|                                                744|                                           2011|                                                 1983|                        3052|                                       554|                                  1801|                                         697|                   32539|     19|     19-26000|       ONSALES|  2019-04-29| 2019-06-14|Another Broken Eg...|     37209|36.152385| -86.83657|       786 days|\n",
            "+-----+--------+----------------+---------------------+-----------------------+---------------+--------------------+----------------------+------------------------------------+--------------------------------------------------+----------------------------------------------+----------------------------------------------------+-------------------------------------+---------------------------------------------------+-----------------------------------------------+-----------------------------------------------------+-------------------------------------+---------------------------------------------------+-----------------------------------------------+-----------------------------------------------------+----------------------------+------------------------------------------+--------------------------------------+--------------------------------------------+------------------------+-------+-------------+--------------+------------+-----------+--------------------+----------+---------+----------+---------------+\n",
            "only showing top 20 rows\n",
            "\n"
          ],
          "name": "stdout"
        }
      ]
    },
    {
      "cell_type": "code",
      "metadata": {
        "id": "784a411f"
      },
      "source": [
        "# Initial imports.\n",
        "import pandas as pd\n",
        "import numpy as np\n",
        "\n",
        "from sklearn.ensemble import RandomForestClassifier\n",
        "from sklearn.preprocessing import StandardScaler\n",
        "from sklearn.model_selection import train_test_split\n",
        "from sklearn.metrics import confusion_matrix, accuracy_score, classification_report\n",
        "from sklearn.multioutput import MultiOutputClassifier"
      ],
      "id": "784a411f",
      "execution_count": 7,
      "outputs": []
    },
    {
      "cell_type": "code",
      "metadata": {
        "colab": {
          "base_uri": "https://localhost:8080/",
          "height": 394
        },
        "id": "fd225760",
        "outputId": "560348b0-11c4-4f9e-e64d-77d7ca4e88e2"
      },
      "source": [
        "# convert file to dataFrame\n",
        "df = pd.read_csv(\"/content/database_join.csv\")\n",
        "df.head()"
      ],
      "id": "fd225760",
      "execution_count": 8,
      "outputs": [
        {
          "output_type": "execute_result",
          "data": {
            "text/html": [
              "<div>\n",
              "<style scoped>\n",
              "    .dataframe tbody tr th:only-of-type {\n",
              "        vertical-align: middle;\n",
              "    }\n",
              "\n",
              "    .dataframe tbody tr th {\n",
              "        vertical-align: top;\n",
              "    }\n",
              "\n",
              "    .dataframe thead th {\n",
              "        text-align: right;\n",
              "    }\n",
              "</style>\n",
              "<table border=\"1\" class=\"dataframe\">\n",
              "  <thead>\n",
              "    <tr style=\"text-align: right;\">\n",
              "      <th></th>\n",
              "      <th>index</th>\n",
              "      <th>zip_code</th>\n",
              "      <th>total_population</th>\n",
              "      <th>total_male_population</th>\n",
              "      <th>total_female_popularion</th>\n",
              "      <th>eight_teen_plus</th>\n",
              "      <th>eight_teen_plus_male</th>\n",
              "      <th>eight_teen_plus_female</th>\n",
              "      <th>population_eight_teen_to_twenty_four</th>\n",
              "      <th>eight_teen_to_twenty_four_not_high_school_graduate</th>\n",
              "      <th>eight_teen_to_twenty_four_high_school_graduate</th>\n",
              "      <th>eight_teen_to_twenty_four_bachelors_degree_or_higher</th>\n",
              "      <th>population_twenty_five_to_thirty_four</th>\n",
              "      <th>twenty_five_to_thirty_four_not_high_school_graduate</th>\n",
              "      <th>twenty_five_to_thirty_four_high_school_graduate</th>\n",
              "      <th>twenty_five_to_thirty_four_bachelors_degree_or_higher</th>\n",
              "      <th>population_thirty_five_to_fourty_four</th>\n",
              "      <th>thirty_five_to_fourty_four_not_high_school_graduate</th>\n",
              "      <th>thirty_five_to_fourty_four_high_school_graduate</th>\n",
              "      <th>thirty_five_to_fourty_four_bachelors_degree_or_higher</th>\n",
              "      <th>population_sixty_five_and_up</th>\n",
              "      <th>sixty_five_and_up_not_high_school_graduate</th>\n",
              "      <th>sixty_five_and_up_high_school_graduate</th>\n",
              "      <th>sixty_five_and_up_bachelors_degree_or_higher</th>\n",
              "      <th>average_household_income</th>\n",
              "      <th>index-2</th>\n",
              "      <th>permit_number</th>\n",
              "      <th>permit_subtype</th>\n",
              "      <th>date_entered</th>\n",
              "      <th>date_issued</th>\n",
              "      <th>business_name</th>\n",
              "      <th>zip_code-2</th>\n",
              "      <th>latitude</th>\n",
              "      <th>longitude</th>\n",
              "      <th>permit_duration</th>\n",
              "    </tr>\n",
              "  </thead>\n",
              "  <tbody>\n",
              "    <tr>\n",
              "      <th>0</th>\n",
              "      <td>0</td>\n",
              "      <td>37013</td>\n",
              "      <td>97939</td>\n",
              "      <td>47658</td>\n",
              "      <td>50281</td>\n",
              "      <td>59479</td>\n",
              "      <td>27984</td>\n",
              "      <td>31495</td>\n",
              "      <td>9099</td>\n",
              "      <td>1073</td>\n",
              "      <td>6670</td>\n",
              "      <td>1356</td>\n",
              "      <td>19538</td>\n",
              "      <td>1439</td>\n",
              "      <td>10123</td>\n",
              "      <td>7976</td>\n",
              "      <td>14718</td>\n",
              "      <td>2146</td>\n",
              "      <td>7680</td>\n",
              "      <td>4892</td>\n",
              "      <td>6688</td>\n",
              "      <td>1045</td>\n",
              "      <td>4248</td>\n",
              "      <td>1395</td>\n",
              "      <td>26832</td>\n",
              "      <td>0</td>\n",
              "      <td>19-25846</td>\n",
              "      <td>ONSALES</td>\n",
              "      <td>2019-01-24</td>\n",
              "      <td>2019-06-03</td>\n",
              "      <td>EXO-TIKKA INDIAN CUSINE</td>\n",
              "      <td>37013</td>\n",
              "      <td>36.047649</td>\n",
              "      <td>-86.648119</td>\n",
              "      <td>797 days</td>\n",
              "    </tr>\n",
              "    <tr>\n",
              "      <th>1</th>\n",
              "      <td>18</td>\n",
              "      <td>37209</td>\n",
              "      <td>38664</td>\n",
              "      <td>18251</td>\n",
              "      <td>20413</td>\n",
              "      <td>29326</td>\n",
              "      <td>13363</td>\n",
              "      <td>15963</td>\n",
              "      <td>5522</td>\n",
              "      <td>337</td>\n",
              "      <td>3591</td>\n",
              "      <td>1594</td>\n",
              "      <td>11095</td>\n",
              "      <td>434</td>\n",
              "      <td>3399</td>\n",
              "      <td>7262</td>\n",
              "      <td>4738</td>\n",
              "      <td>744</td>\n",
              "      <td>2011</td>\n",
              "      <td>1983</td>\n",
              "      <td>3052</td>\n",
              "      <td>554</td>\n",
              "      <td>1801</td>\n",
              "      <td>697</td>\n",
              "      <td>32539</td>\n",
              "      <td>1</td>\n",
              "      <td>16-20340</td>\n",
              "      <td>ONSALES</td>\n",
              "      <td>2016-05-18</td>\n",
              "      <td>2016-09-23</td>\n",
              "      <td>Las Palmas Mexican Restaurant</td>\n",
              "      <td>37209</td>\n",
              "      <td>36.149076</td>\n",
              "      <td>-86.863105</td>\n",
              "      <td>1780 days</td>\n",
              "    </tr>\n",
              "    <tr>\n",
              "      <th>2</th>\n",
              "      <td>24</td>\n",
              "      <td>37215</td>\n",
              "      <td>22379</td>\n",
              "      <td>9989</td>\n",
              "      <td>12390</td>\n",
              "      <td>17874</td>\n",
              "      <td>7986</td>\n",
              "      <td>9888</td>\n",
              "      <td>1774</td>\n",
              "      <td>222</td>\n",
              "      <td>848</td>\n",
              "      <td>704</td>\n",
              "      <td>2717</td>\n",
              "      <td>37</td>\n",
              "      <td>434</td>\n",
              "      <td>2246</td>\n",
              "      <td>2488</td>\n",
              "      <td>24</td>\n",
              "      <td>378</td>\n",
              "      <td>2086</td>\n",
              "      <td>5135</td>\n",
              "      <td>121</td>\n",
              "      <td>1211</td>\n",
              "      <td>3803</td>\n",
              "      <td>88326</td>\n",
              "      <td>2</td>\n",
              "      <td>19-25920</td>\n",
              "      <td>ONOFFSALES</td>\n",
              "      <td>2019-03-06</td>\n",
              "      <td>2019-06-13</td>\n",
              "      <td>NASHVILLE CIGAR</td>\n",
              "      <td>37215</td>\n",
              "      <td>36.104329</td>\n",
              "      <td>-86.815039</td>\n",
              "      <td>787 days</td>\n",
              "    </tr>\n",
              "    <tr>\n",
              "      <th>3</th>\n",
              "      <td>15</td>\n",
              "      <td>37206</td>\n",
              "      <td>26382</td>\n",
              "      <td>12473</td>\n",
              "      <td>13909</td>\n",
              "      <td>20213</td>\n",
              "      <td>9555</td>\n",
              "      <td>10658</td>\n",
              "      <td>1990</td>\n",
              "      <td>228</td>\n",
              "      <td>1435</td>\n",
              "      <td>327</td>\n",
              "      <td>6918</td>\n",
              "      <td>226</td>\n",
              "      <td>2506</td>\n",
              "      <td>4186</td>\n",
              "      <td>4208</td>\n",
              "      <td>364</td>\n",
              "      <td>1408</td>\n",
              "      <td>2436</td>\n",
              "      <td>2226</td>\n",
              "      <td>450</td>\n",
              "      <td>1369</td>\n",
              "      <td>407</td>\n",
              "      <td>36851</td>\n",
              "      <td>3</td>\n",
              "      <td>19-25985</td>\n",
              "      <td>ONOFFSALES</td>\n",
              "      <td>2019-04-22</td>\n",
              "      <td>2019-06-13</td>\n",
              "      <td>TAILGATE BREWERY EAST NASHVILLE</td>\n",
              "      <td>37206</td>\n",
              "      <td>36.186415</td>\n",
              "      <td>-86.747210</td>\n",
              "      <td>787 days</td>\n",
              "    </tr>\n",
              "    <tr>\n",
              "      <th>4</th>\n",
              "      <td>18</td>\n",
              "      <td>37209</td>\n",
              "      <td>38664</td>\n",
              "      <td>18251</td>\n",
              "      <td>20413</td>\n",
              "      <td>29326</td>\n",
              "      <td>13363</td>\n",
              "      <td>15963</td>\n",
              "      <td>5522</td>\n",
              "      <td>337</td>\n",
              "      <td>3591</td>\n",
              "      <td>1594</td>\n",
              "      <td>11095</td>\n",
              "      <td>434</td>\n",
              "      <td>3399</td>\n",
              "      <td>7262</td>\n",
              "      <td>4738</td>\n",
              "      <td>744</td>\n",
              "      <td>2011</td>\n",
              "      <td>1983</td>\n",
              "      <td>3052</td>\n",
              "      <td>554</td>\n",
              "      <td>1801</td>\n",
              "      <td>697</td>\n",
              "      <td>32539</td>\n",
              "      <td>4</td>\n",
              "      <td>17-25076</td>\n",
              "      <td>ONSALES</td>\n",
              "      <td>2017-06-07</td>\n",
              "      <td>2018-03-02</td>\n",
              "      <td>BARE BONES BUTCHER</td>\n",
              "      <td>37209</td>\n",
              "      <td>36.158192</td>\n",
              "      <td>-86.848890</td>\n",
              "      <td>1255 days</td>\n",
              "    </tr>\n",
              "  </tbody>\n",
              "</table>\n",
              "</div>"
            ],
            "text/plain": [
              "   index  zip_code  total_population  ...   latitude  longitude  permit_duration\n",
              "0      0     37013             97939  ...  36.047649 -86.648119         797 days\n",
              "1     18     37209             38664  ...  36.149076 -86.863105        1780 days\n",
              "2     24     37215             22379  ...  36.104329 -86.815039         787 days\n",
              "3     15     37206             26382  ...  36.186415 -86.747210         787 days\n",
              "4     18     37209             38664  ...  36.158192 -86.848890        1255 days\n",
              "\n",
              "[5 rows x 35 columns]"
            ]
          },
          "metadata": {
            "tags": []
          },
          "execution_count": 8
        }
      ]
    },
    {
      "cell_type": "code",
      "metadata": {
        "colab": {
          "base_uri": "https://localhost:8080/"
        },
        "id": "1ee687d2",
        "outputId": "7cec0018-6cb8-44ee-8f39-66be342a47cc"
      },
      "source": [
        "# display all column names\n",
        "df.columns.values.tolist()"
      ],
      "id": "1ee687d2",
      "execution_count": 9,
      "outputs": [
        {
          "output_type": "execute_result",
          "data": {
            "text/plain": [
              "['index',\n",
              " 'zip_code',\n",
              " 'total_population',\n",
              " 'total_male_population',\n",
              " 'total_female_popularion',\n",
              " 'eight_teen_plus',\n",
              " 'eight_teen_plus_male',\n",
              " 'eight_teen_plus_female',\n",
              " 'population_eight_teen_to_twenty_four',\n",
              " 'eight_teen_to_twenty_four_not_high_school_graduate',\n",
              " 'eight_teen_to_twenty_four_high_school_graduate',\n",
              " 'eight_teen_to_twenty_four_bachelors_degree_or_higher',\n",
              " 'population_twenty_five_to_thirty_four',\n",
              " 'twenty_five_to_thirty_four_not_high_school_graduate',\n",
              " 'twenty_five_to_thirty_four_high_school_graduate',\n",
              " 'twenty_five_to_thirty_four_bachelors_degree_or_higher',\n",
              " 'population_thirty_five_to_fourty_four',\n",
              " 'thirty_five_to_fourty_four_not_high_school_graduate',\n",
              " 'thirty_five_to_fourty_four_high_school_graduate',\n",
              " 'thirty_five_to_fourty_four_bachelors_degree_or_higher',\n",
              " 'population_sixty_five_and_up',\n",
              " 'sixty_five_and_up_not_high_school_graduate',\n",
              " 'sixty_five_and_up_high_school_graduate',\n",
              " 'sixty_five_and_up_bachelors_degree_or_higher',\n",
              " 'average_household_income',\n",
              " 'index-2',\n",
              " 'permit_number',\n",
              " 'permit_subtype',\n",
              " 'date_entered',\n",
              " 'date_issued',\n",
              " 'business_name',\n",
              " 'zip_code-2',\n",
              " 'latitude',\n",
              " 'longitude',\n",
              " 'permit_duration']"
            ]
          },
          "metadata": {
            "tags": []
          },
          "execution_count": 9
        }
      ]
    },
    {
      "cell_type": "code",
      "metadata": {
        "colab": {
          "base_uri": "https://localhost:8080/",
          "height": 204
        },
        "id": "db0c9925",
        "outputId": "39e0de1b-b144-4969-c144-dbda24fe2646"
      },
      "source": [
        "# select columns needed for this model\n",
        "df = df[[\"zip_code\",\"total_male_population\",\"total_female_popularion\",\n",
        " \"average_household_income\",\"permit_number\",\"permit_duration\"]]\n",
        "df.head()"
      ],
      "id": "db0c9925",
      "execution_count": 10,
      "outputs": [
        {
          "output_type": "execute_result",
          "data": {
            "text/html": [
              "<div>\n",
              "<style scoped>\n",
              "    .dataframe tbody tr th:only-of-type {\n",
              "        vertical-align: middle;\n",
              "    }\n",
              "\n",
              "    .dataframe tbody tr th {\n",
              "        vertical-align: top;\n",
              "    }\n",
              "\n",
              "    .dataframe thead th {\n",
              "        text-align: right;\n",
              "    }\n",
              "</style>\n",
              "<table border=\"1\" class=\"dataframe\">\n",
              "  <thead>\n",
              "    <tr style=\"text-align: right;\">\n",
              "      <th></th>\n",
              "      <th>zip_code</th>\n",
              "      <th>total_male_population</th>\n",
              "      <th>total_female_popularion</th>\n",
              "      <th>average_household_income</th>\n",
              "      <th>permit_number</th>\n",
              "      <th>permit_duration</th>\n",
              "    </tr>\n",
              "  </thead>\n",
              "  <tbody>\n",
              "    <tr>\n",
              "      <th>0</th>\n",
              "      <td>37013</td>\n",
              "      <td>47658</td>\n",
              "      <td>50281</td>\n",
              "      <td>26832</td>\n",
              "      <td>19-25846</td>\n",
              "      <td>797 days</td>\n",
              "    </tr>\n",
              "    <tr>\n",
              "      <th>1</th>\n",
              "      <td>37209</td>\n",
              "      <td>18251</td>\n",
              "      <td>20413</td>\n",
              "      <td>32539</td>\n",
              "      <td>16-20340</td>\n",
              "      <td>1780 days</td>\n",
              "    </tr>\n",
              "    <tr>\n",
              "      <th>2</th>\n",
              "      <td>37215</td>\n",
              "      <td>9989</td>\n",
              "      <td>12390</td>\n",
              "      <td>88326</td>\n",
              "      <td>19-25920</td>\n",
              "      <td>787 days</td>\n",
              "    </tr>\n",
              "    <tr>\n",
              "      <th>3</th>\n",
              "      <td>37206</td>\n",
              "      <td>12473</td>\n",
              "      <td>13909</td>\n",
              "      <td>36851</td>\n",
              "      <td>19-25985</td>\n",
              "      <td>787 days</td>\n",
              "    </tr>\n",
              "    <tr>\n",
              "      <th>4</th>\n",
              "      <td>37209</td>\n",
              "      <td>18251</td>\n",
              "      <td>20413</td>\n",
              "      <td>32539</td>\n",
              "      <td>17-25076</td>\n",
              "      <td>1255 days</td>\n",
              "    </tr>\n",
              "  </tbody>\n",
              "</table>\n",
              "</div>"
            ],
            "text/plain": [
              "   zip_code  total_male_population  ...  permit_number  permit_duration\n",
              "0     37013                  47658  ...       19-25846         797 days\n",
              "1     37209                  18251  ...       16-20340        1780 days\n",
              "2     37215                   9989  ...       19-25920         787 days\n",
              "3     37206                  12473  ...       19-25985         787 days\n",
              "4     37209                  18251  ...       17-25076        1255 days\n",
              "\n",
              "[5 rows x 6 columns]"
            ]
          },
          "metadata": {
            "tags": []
          },
          "execution_count": 10
        }
      ]
    },
    {
      "cell_type": "code",
      "metadata": {
        "id": "934a6e89"
      },
      "source": [
        "# split permit duration to get days for calculation puposes\n",
        "days = df['permit_duration'].str.split(' ', n=1, expand =True)\n",
        "df[\"days\"] = days[0].astype(int)\n"
      ],
      "id": "934a6e89",
      "execution_count": 11,
      "outputs": []
    },
    {
      "cell_type": "code",
      "metadata": {
        "colab": {
          "base_uri": "https://localhost:8080/",
          "height": 204
        },
        "id": "ffd53543",
        "outputId": "c38d2c03-103c-4848-ff52-34a03767a848"
      },
      "source": [
        "# define success as 2 years with permit, create new binary column to represent success vs failure\n",
        "df[\"success\"] = 0\n",
        "df.loc[df[\"days\"] >= 750, \"success\"] = 1\n",
        "\n",
        "df.head()"
      ],
      "id": "ffd53543",
      "execution_count": 12,
      "outputs": [
        {
          "output_type": "execute_result",
          "data": {
            "text/html": [
              "<div>\n",
              "<style scoped>\n",
              "    .dataframe tbody tr th:only-of-type {\n",
              "        vertical-align: middle;\n",
              "    }\n",
              "\n",
              "    .dataframe tbody tr th {\n",
              "        vertical-align: top;\n",
              "    }\n",
              "\n",
              "    .dataframe thead th {\n",
              "        text-align: right;\n",
              "    }\n",
              "</style>\n",
              "<table border=\"1\" class=\"dataframe\">\n",
              "  <thead>\n",
              "    <tr style=\"text-align: right;\">\n",
              "      <th></th>\n",
              "      <th>zip_code</th>\n",
              "      <th>total_male_population</th>\n",
              "      <th>total_female_popularion</th>\n",
              "      <th>average_household_income</th>\n",
              "      <th>permit_number</th>\n",
              "      <th>permit_duration</th>\n",
              "      <th>days</th>\n",
              "      <th>success</th>\n",
              "    </tr>\n",
              "  </thead>\n",
              "  <tbody>\n",
              "    <tr>\n",
              "      <th>0</th>\n",
              "      <td>37013</td>\n",
              "      <td>47658</td>\n",
              "      <td>50281</td>\n",
              "      <td>26832</td>\n",
              "      <td>19-25846</td>\n",
              "      <td>797 days</td>\n",
              "      <td>797</td>\n",
              "      <td>1</td>\n",
              "    </tr>\n",
              "    <tr>\n",
              "      <th>1</th>\n",
              "      <td>37209</td>\n",
              "      <td>18251</td>\n",
              "      <td>20413</td>\n",
              "      <td>32539</td>\n",
              "      <td>16-20340</td>\n",
              "      <td>1780 days</td>\n",
              "      <td>1780</td>\n",
              "      <td>1</td>\n",
              "    </tr>\n",
              "    <tr>\n",
              "      <th>2</th>\n",
              "      <td>37215</td>\n",
              "      <td>9989</td>\n",
              "      <td>12390</td>\n",
              "      <td>88326</td>\n",
              "      <td>19-25920</td>\n",
              "      <td>787 days</td>\n",
              "      <td>787</td>\n",
              "      <td>1</td>\n",
              "    </tr>\n",
              "    <tr>\n",
              "      <th>3</th>\n",
              "      <td>37206</td>\n",
              "      <td>12473</td>\n",
              "      <td>13909</td>\n",
              "      <td>36851</td>\n",
              "      <td>19-25985</td>\n",
              "      <td>787 days</td>\n",
              "      <td>787</td>\n",
              "      <td>1</td>\n",
              "    </tr>\n",
              "    <tr>\n",
              "      <th>4</th>\n",
              "      <td>37209</td>\n",
              "      <td>18251</td>\n",
              "      <td>20413</td>\n",
              "      <td>32539</td>\n",
              "      <td>17-25076</td>\n",
              "      <td>1255 days</td>\n",
              "      <td>1255</td>\n",
              "      <td>1</td>\n",
              "    </tr>\n",
              "  </tbody>\n",
              "</table>\n",
              "</div>"
            ],
            "text/plain": [
              "   zip_code  total_male_population  ...  days  success\n",
              "0     37013                  47658  ...   797        1\n",
              "1     37209                  18251  ...  1780        1\n",
              "2     37215                   9989  ...   787        1\n",
              "3     37206                  12473  ...   787        1\n",
              "4     37209                  18251  ...  1255        1\n",
              "\n",
              "[5 rows x 8 columns]"
            ]
          },
          "metadata": {
            "tags": []
          },
          "execution_count": 12
        }
      ]
    },
    {
      "cell_type": "code",
      "metadata": {
        "id": "c69bab07"
      },
      "source": [
        "# create DF to hold permit numbers because scaling must be done with numeric values\n",
        "pn_df = pd.DataFrame(df['permit_number']).set_index(df.index)"
      ],
      "id": "c69bab07",
      "execution_count": 13,
      "outputs": []
    },
    {
      "cell_type": "code",
      "metadata": {
        "id": "08c2059f"
      },
      "source": [
        "# drop unnecessary columns\n",
        "df.drop(columns=[\"permit_number\", \"permit_duration\", \"days\"], inplace = True)"
      ],
      "id": "08c2059f",
      "execution_count": 14,
      "outputs": []
    },
    {
      "cell_type": "code",
      "metadata": {
        "id": "baf7a4a4"
      },
      "source": [
        "# Define the features set.\n",
        "X = df.copy()\n",
        "X = X.drop(\"success\", axis=1)\n",
        "y = df[\"success\"]"
      ],
      "id": "baf7a4a4",
      "execution_count": 15,
      "outputs": []
    },
    {
      "cell_type": "code",
      "metadata": {
        "id": "481a62f4"
      },
      "source": [
        "# Splitting into Train and Test sets.\n",
        "X_train, X_test, y_train, y_test = train_test_split(X, y, random_state=78)"
      ],
      "id": "481a62f4",
      "execution_count": 16,
      "outputs": []
    },
    {
      "cell_type": "code",
      "metadata": {
        "id": "e60e5d2c"
      },
      "source": [
        "# Creating a StandardScaler instance.\n",
        "scaler = StandardScaler()\n",
        "# Fitting the Standard Scaler with the training data.\n",
        "X_scaler = scaler.fit(X_train)\n",
        "\n",
        "# Scaling the data.\n",
        "X_train_scaled = X_scaler.transform(X_train)\n",
        "X_test_scaled = X_scaler.transform(X_test)"
      ],
      "id": "e60e5d2c",
      "execution_count": 17,
      "outputs": []
    },
    {
      "cell_type": "code",
      "metadata": {
        "id": "0a6c5afc"
      },
      "source": [
        "# Create a random forest classifier.\n",
        "rf_model = RandomForestClassifier(n_estimators=128, random_state=78) "
      ],
      "id": "0a6c5afc",
      "execution_count": 18,
      "outputs": []
    },
    {
      "cell_type": "code",
      "metadata": {
        "id": "24e15b10"
      },
      "source": [
        "# Fitting the model\n",
        "rf_model = rf_model.fit(X_train_scaled, y_train)"
      ],
      "id": "24e15b10",
      "execution_count": 19,
      "outputs": []
    },
    {
      "cell_type": "code",
      "metadata": {
        "id": "45efa33d"
      },
      "source": [
        "# Making predictions using the testing data.\n",
        "predictions = rf_model.predict(X_test_scaled)"
      ],
      "id": "45efa33d",
      "execution_count": 20,
      "outputs": []
    },
    {
      "cell_type": "code",
      "metadata": {
        "id": "7cb55b61"
      },
      "source": [
        "# Calculating the accuracy score.\n",
        "acc_score = accuracy_score(y_test, predictions)"
      ],
      "id": "7cb55b61",
      "execution_count": 21,
      "outputs": []
    },
    {
      "cell_type": "code",
      "metadata": {
        "colab": {
          "base_uri": "https://localhost:8080/",
          "height": 111
        },
        "id": "923727ab",
        "outputId": "bb2a63fd-df3b-4b3e-8cfd-248cd315dd5f"
      },
      "source": [
        "# Calculating the confusion matrix.\n",
        "cm = confusion_matrix(y_test, predictions)\n",
        "\n",
        "# Create a DataFrame from the confusion matrix.\n",
        "cm_df = pd.DataFrame(\n",
        "    cm, index=[\"Actual 0\", \"Actual 1\"], columns=[\"Predicted 0\", \"Predicted 1\"])\n",
        "\n",
        "cm_df"
      ],
      "id": "923727ab",
      "execution_count": 22,
      "outputs": [
        {
          "output_type": "execute_result",
          "data": {
            "text/html": [
              "<div>\n",
              "<style scoped>\n",
              "    .dataframe tbody tr th:only-of-type {\n",
              "        vertical-align: middle;\n",
              "    }\n",
              "\n",
              "    .dataframe tbody tr th {\n",
              "        vertical-align: top;\n",
              "    }\n",
              "\n",
              "    .dataframe thead th {\n",
              "        text-align: right;\n",
              "    }\n",
              "</style>\n",
              "<table border=\"1\" class=\"dataframe\">\n",
              "  <thead>\n",
              "    <tr style=\"text-align: right;\">\n",
              "      <th></th>\n",
              "      <th>Predicted 0</th>\n",
              "      <th>Predicted 1</th>\n",
              "    </tr>\n",
              "  </thead>\n",
              "  <tbody>\n",
              "    <tr>\n",
              "      <th>Actual 0</th>\n",
              "      <td>1</td>\n",
              "      <td>88</td>\n",
              "    </tr>\n",
              "    <tr>\n",
              "      <th>Actual 1</th>\n",
              "      <td>1</td>\n",
              "      <td>236</td>\n",
              "    </tr>\n",
              "  </tbody>\n",
              "</table>\n",
              "</div>"
            ],
            "text/plain": [
              "          Predicted 0  Predicted 1\n",
              "Actual 0            1           88\n",
              "Actual 1            1          236"
            ]
          },
          "metadata": {
            "tags": []
          },
          "execution_count": 22
        }
      ]
    },
    {
      "cell_type": "code",
      "metadata": {
        "colab": {
          "base_uri": "https://localhost:8080/",
          "height": 315
        },
        "id": "1ad9a8a2",
        "outputId": "82e4719d-a835-4bb6-aa80-95781a6f99f9"
      },
      "source": [
        "# Displaying results\n",
        "print(\"Confusion Matrix\")\n",
        "display(cm_df)\n",
        "print(f\"Accuracy Score : {acc_score}\")\n",
        "print(\"Classification Report\")\n",
        "print(classification_report(y_test, predictions))"
      ],
      "id": "1ad9a8a2",
      "execution_count": 23,
      "outputs": [
        {
          "output_type": "stream",
          "text": [
            "Confusion Matrix\n"
          ],
          "name": "stdout"
        },
        {
          "output_type": "display_data",
          "data": {
            "text/html": [
              "<div>\n",
              "<style scoped>\n",
              "    .dataframe tbody tr th:only-of-type {\n",
              "        vertical-align: middle;\n",
              "    }\n",
              "\n",
              "    .dataframe tbody tr th {\n",
              "        vertical-align: top;\n",
              "    }\n",
              "\n",
              "    .dataframe thead th {\n",
              "        text-align: right;\n",
              "    }\n",
              "</style>\n",
              "<table border=\"1\" class=\"dataframe\">\n",
              "  <thead>\n",
              "    <tr style=\"text-align: right;\">\n",
              "      <th></th>\n",
              "      <th>Predicted 0</th>\n",
              "      <th>Predicted 1</th>\n",
              "    </tr>\n",
              "  </thead>\n",
              "  <tbody>\n",
              "    <tr>\n",
              "      <th>Actual 0</th>\n",
              "      <td>1</td>\n",
              "      <td>88</td>\n",
              "    </tr>\n",
              "    <tr>\n",
              "      <th>Actual 1</th>\n",
              "      <td>1</td>\n",
              "      <td>236</td>\n",
              "    </tr>\n",
              "  </tbody>\n",
              "</table>\n",
              "</div>"
            ],
            "text/plain": [
              "          Predicted 0  Predicted 1\n",
              "Actual 0            1           88\n",
              "Actual 1            1          236"
            ]
          },
          "metadata": {
            "tags": []
          }
        },
        {
          "output_type": "stream",
          "text": [
            "Accuracy Score : 0.7269938650306749\n",
            "Classification Report\n",
            "              precision    recall  f1-score   support\n",
            "\n",
            "           0       0.50      0.01      0.02        89\n",
            "           1       0.73      1.00      0.84       237\n",
            "\n",
            "    accuracy                           0.73       326\n",
            "   macro avg       0.61      0.50      0.43       326\n",
            "weighted avg       0.67      0.73      0.62       326\n",
            "\n"
          ],
          "name": "stdout"
        }
      ]
    },
    {
      "cell_type": "code",
      "metadata": {
        "colab": {
          "base_uri": "https://localhost:8080/"
        },
        "id": "b0f4560a",
        "outputId": "1fd66f14-f9f0-450d-a80b-fd73da85b147"
      },
      "source": [
        "# Calculate feature importance in the Random Forest model.\n",
        "importances = rf_model.feature_importances_\n",
        "importances"
      ],
      "id": "b0f4560a",
      "execution_count": 24,
      "outputs": [
        {
          "output_type": "execute_result",
          "data": {
            "text/plain": [
              "array([0.33739118, 0.21109754, 0.20146852, 0.25004275])"
            ]
          },
          "metadata": {
            "tags": []
          },
          "execution_count": 24
        }
      ]
    },
    {
      "cell_type": "code",
      "metadata": {
        "colab": {
          "base_uri": "https://localhost:8080/"
        },
        "id": "6b086026",
        "outputId": "26033807-0063-4a2e-9287-51ca305ebe46"
      },
      "source": [
        "# We can sort the features by their importance.\n",
        "sorted(zip(rf_model.feature_importances_, X.columns), reverse=True)"
      ],
      "id": "6b086026",
      "execution_count": 25,
      "outputs": [
        {
          "output_type": "execute_result",
          "data": {
            "text/plain": [
              "[(0.3373911847849122, 'zip_code'),\n",
              " (0.2500427497829374, 'average_household_income'),\n",
              " (0.211097541832203, 'total_male_population'),\n",
              " (0.2014685235999475, 'total_female_popularion')]"
            ]
          },
          "metadata": {
            "tags": []
          },
          "execution_count": 25
        }
      ]
    },
    {
      "cell_type": "code",
      "metadata": {
        "colab": {
          "base_uri": "https://localhost:8080/",
          "height": 340
        },
        "id": "9e2f819f",
        "outputId": "9a22af3b-2903-476a-dd4e-519bb8b3692e"
      },
      "source": [
        "from sklearn.ensemble import GradientBoostingClassifier\n",
        "learning_rates = [0.05, 0.1, 0.25, 0.5, 0.75, 1]\n",
        "for learning_rate in learning_rates:\n",
        "   classifier = GradientBoostingClassifier(n_estimators=20,\n",
        "   learning_rate=learning_rate,\n",
        "   max_features=5,\n",
        "   max_depth=3,\n",
        "   random_state=0)\n",
        "   classifier.fit(X_train_scaled, y_train.ravel)"
      ],
      "id": "9e2f819f",
      "execution_count": 26,
      "outputs": [
        {
          "output_type": "error",
          "ename": "TypeError",
          "evalue": "ignored",
          "traceback": [
            "\u001b[0;31m---------------------------------------------------------------------------\u001b[0m",
            "\u001b[0;31mTypeError\u001b[0m                                 Traceback (most recent call last)",
            "\u001b[0;32m<ipython-input-26-3f3e72d68a72>\u001b[0m in \u001b[0;36m<module>\u001b[0;34m()\u001b[0m\n\u001b[1;32m      7\u001b[0m    \u001b[0mmax_depth\u001b[0m\u001b[0;34m=\u001b[0m\u001b[0;36m3\u001b[0m\u001b[0;34m,\u001b[0m\u001b[0;34m\u001b[0m\u001b[0;34m\u001b[0m\u001b[0m\n\u001b[1;32m      8\u001b[0m    random_state=0)\n\u001b[0;32m----> 9\u001b[0;31m    \u001b[0mclassifier\u001b[0m\u001b[0;34m.\u001b[0m\u001b[0mfit\u001b[0m\u001b[0;34m(\u001b[0m\u001b[0mX_train_scaled\u001b[0m\u001b[0;34m,\u001b[0m \u001b[0my_train\u001b[0m\u001b[0;34m.\u001b[0m\u001b[0mravel\u001b[0m\u001b[0;34m)\u001b[0m\u001b[0;34m\u001b[0m\u001b[0;34m\u001b[0m\u001b[0m\n\u001b[0m",
            "\u001b[0;32m/usr/local/lib/python3.7/dist-packages/sklearn/ensemble/_gb.py\u001b[0m in \u001b[0;36mfit\u001b[0;34m(self, X, y, sample_weight, monitor)\u001b[0m\n\u001b[1;32m   1449\u001b[0m             \u001b[0msample_weight_is_none\u001b[0m \u001b[0;34m=\u001b[0m \u001b[0;32mFalse\u001b[0m\u001b[0;34m\u001b[0m\u001b[0;34m\u001b[0m\u001b[0m\n\u001b[1;32m   1450\u001b[0m \u001b[0;34m\u001b[0m\u001b[0m\n\u001b[0;32m-> 1451\u001b[0;31m         \u001b[0mcheck_consistent_length\u001b[0m\u001b[0;34m(\u001b[0m\u001b[0mX\u001b[0m\u001b[0;34m,\u001b[0m \u001b[0my\u001b[0m\u001b[0;34m,\u001b[0m \u001b[0msample_weight\u001b[0m\u001b[0;34m)\u001b[0m\u001b[0;34m\u001b[0m\u001b[0;34m\u001b[0m\u001b[0m\n\u001b[0m\u001b[1;32m   1452\u001b[0m \u001b[0;34m\u001b[0m\u001b[0m\n\u001b[1;32m   1453\u001b[0m         \u001b[0my\u001b[0m \u001b[0;34m=\u001b[0m \u001b[0mcheck_array\u001b[0m\u001b[0;34m(\u001b[0m\u001b[0my\u001b[0m\u001b[0;34m,\u001b[0m \u001b[0maccept_sparse\u001b[0m\u001b[0;34m=\u001b[0m\u001b[0;34m'csc'\u001b[0m\u001b[0;34m,\u001b[0m \u001b[0mensure_2d\u001b[0m\u001b[0;34m=\u001b[0m\u001b[0;32mFalse\u001b[0m\u001b[0;34m,\u001b[0m \u001b[0mdtype\u001b[0m\u001b[0;34m=\u001b[0m\u001b[0;32mNone\u001b[0m\u001b[0;34m)\u001b[0m\u001b[0;34m\u001b[0m\u001b[0;34m\u001b[0m\u001b[0m\n",
            "\u001b[0;32m/usr/local/lib/python3.7/dist-packages/sklearn/utils/validation.py\u001b[0m in \u001b[0;36mcheck_consistent_length\u001b[0;34m(*arrays)\u001b[0m\n\u001b[1;32m    206\u001b[0m     \"\"\"\n\u001b[1;32m    207\u001b[0m \u001b[0;34m\u001b[0m\u001b[0m\n\u001b[0;32m--> 208\u001b[0;31m     \u001b[0mlengths\u001b[0m \u001b[0;34m=\u001b[0m \u001b[0;34m[\u001b[0m\u001b[0m_num_samples\u001b[0m\u001b[0;34m(\u001b[0m\u001b[0mX\u001b[0m\u001b[0;34m)\u001b[0m \u001b[0;32mfor\u001b[0m \u001b[0mX\u001b[0m \u001b[0;32min\u001b[0m \u001b[0marrays\u001b[0m \u001b[0;32mif\u001b[0m \u001b[0mX\u001b[0m \u001b[0;32mis\u001b[0m \u001b[0;32mnot\u001b[0m \u001b[0;32mNone\u001b[0m\u001b[0;34m]\u001b[0m\u001b[0;34m\u001b[0m\u001b[0;34m\u001b[0m\u001b[0m\n\u001b[0m\u001b[1;32m    209\u001b[0m     \u001b[0muniques\u001b[0m \u001b[0;34m=\u001b[0m \u001b[0mnp\u001b[0m\u001b[0;34m.\u001b[0m\u001b[0munique\u001b[0m\u001b[0;34m(\u001b[0m\u001b[0mlengths\u001b[0m\u001b[0;34m)\u001b[0m\u001b[0;34m\u001b[0m\u001b[0;34m\u001b[0m\u001b[0m\n\u001b[1;32m    210\u001b[0m     \u001b[0;32mif\u001b[0m \u001b[0mlen\u001b[0m\u001b[0;34m(\u001b[0m\u001b[0muniques\u001b[0m\u001b[0;34m)\u001b[0m \u001b[0;34m>\u001b[0m \u001b[0;36m1\u001b[0m\u001b[0;34m:\u001b[0m\u001b[0;34m\u001b[0m\u001b[0;34m\u001b[0m\u001b[0m\n",
            "\u001b[0;32m/usr/local/lib/python3.7/dist-packages/sklearn/utils/validation.py\u001b[0m in \u001b[0;36m<listcomp>\u001b[0;34m(.0)\u001b[0m\n\u001b[1;32m    206\u001b[0m     \"\"\"\n\u001b[1;32m    207\u001b[0m \u001b[0;34m\u001b[0m\u001b[0m\n\u001b[0;32m--> 208\u001b[0;31m     \u001b[0mlengths\u001b[0m \u001b[0;34m=\u001b[0m \u001b[0;34m[\u001b[0m\u001b[0m_num_samples\u001b[0m\u001b[0;34m(\u001b[0m\u001b[0mX\u001b[0m\u001b[0;34m)\u001b[0m \u001b[0;32mfor\u001b[0m \u001b[0mX\u001b[0m \u001b[0;32min\u001b[0m \u001b[0marrays\u001b[0m \u001b[0;32mif\u001b[0m \u001b[0mX\u001b[0m \u001b[0;32mis\u001b[0m \u001b[0;32mnot\u001b[0m \u001b[0;32mNone\u001b[0m\u001b[0;34m]\u001b[0m\u001b[0;34m\u001b[0m\u001b[0;34m\u001b[0m\u001b[0m\n\u001b[0m\u001b[1;32m    209\u001b[0m     \u001b[0muniques\u001b[0m \u001b[0;34m=\u001b[0m \u001b[0mnp\u001b[0m\u001b[0;34m.\u001b[0m\u001b[0munique\u001b[0m\u001b[0;34m(\u001b[0m\u001b[0mlengths\u001b[0m\u001b[0;34m)\u001b[0m\u001b[0;34m\u001b[0m\u001b[0;34m\u001b[0m\u001b[0m\n\u001b[1;32m    210\u001b[0m     \u001b[0;32mif\u001b[0m \u001b[0mlen\u001b[0m\u001b[0;34m(\u001b[0m\u001b[0muniques\u001b[0m\u001b[0;34m)\u001b[0m \u001b[0;34m>\u001b[0m \u001b[0;36m1\u001b[0m\u001b[0;34m:\u001b[0m\u001b[0;34m\u001b[0m\u001b[0;34m\u001b[0m\u001b[0m\n",
            "\u001b[0;32m/usr/local/lib/python3.7/dist-packages/sklearn/utils/validation.py\u001b[0m in \u001b[0;36m_num_samples\u001b[0;34m(x)\u001b[0m\n\u001b[1;32m    145\u001b[0m             \u001b[0mx\u001b[0m \u001b[0;34m=\u001b[0m \u001b[0mnp\u001b[0m\u001b[0;34m.\u001b[0m\u001b[0masarray\u001b[0m\u001b[0;34m(\u001b[0m\u001b[0mx\u001b[0m\u001b[0;34m)\u001b[0m\u001b[0;34m\u001b[0m\u001b[0;34m\u001b[0m\u001b[0m\n\u001b[1;32m    146\u001b[0m         \u001b[0;32melse\u001b[0m\u001b[0;34m:\u001b[0m\u001b[0;34m\u001b[0m\u001b[0;34m\u001b[0m\u001b[0m\n\u001b[0;32m--> 147\u001b[0;31m             \u001b[0;32mraise\u001b[0m \u001b[0mTypeError\u001b[0m\u001b[0;34m(\u001b[0m\u001b[0mmessage\u001b[0m\u001b[0;34m)\u001b[0m\u001b[0;34m\u001b[0m\u001b[0;34m\u001b[0m\u001b[0m\n\u001b[0m\u001b[1;32m    148\u001b[0m \u001b[0;34m\u001b[0m\u001b[0m\n\u001b[1;32m    149\u001b[0m     \u001b[0;32mif\u001b[0m \u001b[0mhasattr\u001b[0m\u001b[0;34m(\u001b[0m\u001b[0mx\u001b[0m\u001b[0;34m,\u001b[0m \u001b[0;34m'shape'\u001b[0m\u001b[0;34m)\u001b[0m \u001b[0;32mand\u001b[0m \u001b[0mx\u001b[0m\u001b[0;34m.\u001b[0m\u001b[0mshape\u001b[0m \u001b[0;32mis\u001b[0m \u001b[0;32mnot\u001b[0m \u001b[0;32mNone\u001b[0m\u001b[0;34m:\u001b[0m\u001b[0;34m\u001b[0m\u001b[0;34m\u001b[0m\u001b[0m\n",
            "\u001b[0;31mTypeError\u001b[0m: Expected sequence or array-like, got <class 'method'>"
          ]
        }
      ]
    },
    {
      "cell_type": "code",
      "metadata": {
        "id": "32b27ce5"
      },
      "source": [
        ""
      ],
      "id": "32b27ce5",
      "execution_count": null,
      "outputs": []
    }
  ]
}